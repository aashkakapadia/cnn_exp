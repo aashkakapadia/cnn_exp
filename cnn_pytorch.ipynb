{
 "cells": [
  {
   "cell_type": "code",
   "execution_count": 1,
   "metadata": {
    "collapsed": true
   },
   "outputs": [],
   "source": [
    "import torch\n",
    "from torch.autograd import Variable\n",
    "import torch.nn as nn\n",
    "import torch.nn.functional as F\n",
    "import torchvision\n",
    "import torchvision.transforms as transforms\n",
    "import torch.utils.data as ud\n",
    "import numpy as np\n",
    "import matplotlib.pyplot as plt\n",
    "import torch.utils.data as tud\n",
    "from PIL import Image\n",
    "import torch.optim as optim\n",
    "import torchvision.datasets as td"
   ]
  },
  {
   "cell_type": "code",
   "execution_count": 2,
   "metadata": {
    "collapsed": true
   },
   "outputs": [],
   "source": [
    "img_size = 256\n",
    "imgpath = '/home/cv_lab/Jeni/imgs/'\n",
    "img = Image.open(imgpath+'h1.jpeg')\n",
    "#prep = transforms.Compose([transforms.Scale(img_size),\n",
    " #                          transforms.ToTensor()])\n",
    "prep = transforms.Compose([transforms.CenterCrop(256), transforms.ToTensor()])\n",
    "img_torch = prep(img)\n",
    "img_var = Variable(img_torch.unsqueeze(0)).cuda()\n",
    "#img_var = Variable(img_torch)\n",
    "batch_size = 1"
   ]
  },
  {
   "cell_type": "code",
   "execution_count": 3,
   "metadata": {},
   "outputs": [
    {
     "name": "stdout",
     "output_type": "stream",
     "text": [
      "32\n"
     ]
    }
   ],
   "source": [
    "random_imgs_folder = '/home/daiict/CVShare/Jeni/random_imgs/'\n",
    "random_imgs = td.ImageFolder(random_imgs_folder,transform = prep)\n",
    "tot_imgs = (len(random_imgs))\n",
    "loader = tud.DataLoader(random_imgs,shuffle=True)#,sampler=tud.sampler.RandomSampler)\n",
    "print(len(loader))"
   ]
  },
  {
   "cell_type": "code",
   "execution_count": 4,
   "metadata": {},
   "outputs": [
    {
     "data": {
      "text/plain": [
       "'for i,tmp in enumerate(loader):\\n    print(tmp[0].type)\\n    tmp = tmp[0].view(3,256,256)\\n    topil = transforms.ToPILImage()(tmp)\\n    plt.imshow(topil)\\n    plt.show()'"
      ]
     },
     "execution_count": 4,
     "metadata": {},
     "output_type": "execute_result"
    }
   ],
   "source": [
    "'''for i,tmp in enumerate(loader):\n",
    "    print(tmp[0].type)\n",
    "    tmp = tmp[0].view(3,256,256)\n",
    "    topil = transforms.ToPILImage()(tmp)\n",
    "    plt.imshow(topil)\n",
    "    plt.show()'''"
   ]
  },
  {
   "cell_type": "code",
   "execution_count": 5,
   "metadata": {
    "collapsed": true
   },
   "outputs": [],
   "source": [
    "def sample_imgs(show='False'):\n",
    "    num = np.random.randint(len(loader))\n",
    "    sampler = loader.sampler\n",
    "    nxtiter = sampler.__iter__()\n",
    "    img1 = random_imgs.__getitem__(next(nxtiter))\n",
    "    #print(img1[0].type)\n",
    "    #print(img1.type())\n",
    "    if(show=='True'):\n",
    "        topil = transforms.ToPILImage()(img1[0])\n",
    "        plt.imshow(topil)\n",
    "        plt.show()\n",
    "    return Variable(img1[0].unsqueeze(0)).cuda()"
   ]
  },
  {
   "cell_type": "code",
   "execution_count": 6,
   "metadata": {},
   "outputs": [],
   "source": [
    "#_ = sample_imgs(show='True')"
   ]
  },
  {
   "cell_type": "code",
   "execution_count": 7,
   "metadata": {},
   "outputs": [
    {
     "data": {
      "text/plain": [
       "\"def sample_imgs(show='False'):\\n    sampler = tud.sampler.RandomSampler(random_imgs)\\n    nxtiter = sampler.__iter__()\\n    img,label = random_imgs.__getitem__(next(nxtiter))\\n    img = prep(img)\\n    if(show == 'True'):\\n        topil = transforms.ToPILImage()(img)\\n        plt.imshow(topil)\\n        plt.show()\\n    return Variable(img.unsqueeze(0))\""
      ]
     },
     "execution_count": 7,
     "metadata": {},
     "output_type": "execute_result"
    }
   ],
   "source": [
    "'''def sample_imgs(show='False'):\n",
    "    sampler = tud.sampler.RandomSampler(random_imgs)\n",
    "    nxtiter = sampler.__iter__()\n",
    "    img,label = random_imgs.__getitem__(next(nxtiter))\n",
    "    img = prep(img)\n",
    "    if(show == 'True'):\n",
    "        topil = transforms.ToPILImage()(img)\n",
    "        plt.imshow(topil)\n",
    "        plt.show()\n",
    "    return Variable(img.unsqueeze(0))'''"
   ]
  },
  {
   "cell_type": "code",
   "execution_count": 8,
   "metadata": {
    "collapsed": true
   },
   "outputs": [],
   "source": [
    "class mycnn(nn.Module):\n",
    "    def __init__(self):\n",
    "        super(mycnn,self).__init__()\n",
    "        self.cn1 = nn.Conv2d(img_channels,n_f1,3)\n",
    "        self.max_pool = nn.MaxPool2d(3)\n",
    "        self.cn2 = nn.Conv2d(n_f1,n_f2,3)\n",
    "        \n",
    "    def forward(self,x):\n",
    "        x = F.relu(self.cn1(x))\n",
    "        print(type(x))\n",
    "        x = F.relu(self.cn2(x))\n",
    "        x = self.max_pool(x)\n",
    "        return x"
   ]
  },
  {
   "cell_type": "code",
   "execution_count": 9,
   "metadata": {
    "collapsed": true
   },
   "outputs": [],
   "source": [
    "class VGG(nn.Module):\n",
    "    def __init__(self, pool='max'):\n",
    "        super(VGG, self).__init__()\n",
    "        #vgg modules\n",
    "        self.conv1_1 = nn.Conv2d(3, 64, kernel_size=3, padding=1)\n",
    "        self.conv1_2 = nn.Conv2d(64, 64, kernel_size=3, padding=1)\n",
    "        self.conv2_1 = nn.Conv2d(64, 128, kernel_size=3, padding=1)\n",
    "        self.conv2_2 = nn.Conv2d(128, 128, kernel_size=3, padding=1)\n",
    "        self.conv3_1 = nn.Conv2d(128, 256, kernel_size=3, padding=1)\n",
    "        self.conv3_2 = nn.Conv2d(256, 256, kernel_size=3, padding=1)\n",
    "        self.conv3_3 = nn.Conv2d(256, 256, kernel_size=3, padding=1)\n",
    "        self.conv3_4 = nn.Conv2d(256, 256, kernel_size=3, padding=1)\n",
    "        self.conv4_1 = nn.Conv2d(256, 512, kernel_size=3, padding=1)\n",
    "        self.conv4_2 = nn.Conv2d(512, 512, kernel_size=3, padding=1)\n",
    "        self.conv4_3 = nn.Conv2d(512, 512, kernel_size=3, padding=1)\n",
    "        self.conv4_4 = nn.Conv2d(512, 512, kernel_size=3, padding=1)\n",
    "        self.conv5_1 = nn.Conv2d(512, 512, kernel_size=3, padding=1)\n",
    "        self.conv5_2 = nn.Conv2d(512, 512, kernel_size=3, padding=1)\n",
    "        self.conv5_3 = nn.Conv2d(512, 512, kernel_size=3, padding=1)\n",
    "        self.conv5_4 = nn.Conv2d(512, 512, kernel_size=3, padding=1)\n",
    "        self.lin1 = nn.Linear(512*8*8,1024)\n",
    "        self.lin2 = nn.Linear(1024,512)\n",
    "        #self.lin3 = nn.Linear(512,512)\n",
    "        self.lin4 = nn.Linear(512,128)\n",
    "        self.lin5 = nn.Linear(128,1)\n",
    "        if pool == 'max':\n",
    "            self.pool1 = nn.MaxPool2d(kernel_size=2, stride=2)\n",
    "            self.pool2 = nn.MaxPool2d(kernel_size=2, stride=2)\n",
    "            self.pool3 = nn.MaxPool2d(kernel_size=2, stride=2)\n",
    "            self.pool4 = nn.MaxPool2d(kernel_size=2, stride=2)\n",
    "            self.pool5 = nn.MaxPool2d(kernel_size=2, stride=2)\n",
    "        elif pool == 'avg':\n",
    "            self.pool1 = nn.AvgPool2d(kernel_size=2, stride=2)\n",
    "            self.pool2 = nn.AvgPool2d(kernel_size=2, stride=2)\n",
    "            self.pool3 = nn.AvgPool2d(kernel_size=2, stride=2)\n",
    "            self.pool4 = nn.AvgPool2d(kernel_size=2, stride=2)\n",
    "            self.pool5 = nn.AvgPool2d(kernel_size=2, stride=2)\n",
    "            \n",
    "    def forward(self, x):\n",
    "        out = {}\n",
    "        out['r11'] = F.relu(self.conv1_1(x))\n",
    "        out['r12'] = F.relu(self.conv1_2(out['r11']))\n",
    "        out['p1'] = self.pool1(out['r12'])\n",
    "        out['r21'] = F.relu(self.conv2_1(out['p1']))\n",
    "        out['r22'] = F.relu(self.conv2_2(out['r21']))\n",
    "        out['p2'] = self.pool2(out['r22'])\n",
    "        out['r31'] = F.relu(self.conv3_1(out['p2']))\n",
    "        out['r32'] = F.relu(self.conv3_2(out['r31']))\n",
    "        out['r33'] = F.relu(self.conv3_3(out['r32']))\n",
    "        out['r34'] = F.relu(self.conv3_4(out['r33']))\n",
    "        out['p3'] = self.pool3(out['r34'])\n",
    "        out['r41'] = F.relu(self.conv4_1(out['p3']))\n",
    "        out['r42'] = F.relu(self.conv4_2(out['r41']))\n",
    "        out['r43'] = F.relu(self.conv4_3(out['r42']))\n",
    "        out['r44'] = F.relu(self.conv4_4(out['r43']))\n",
    "        out['p4'] = self.pool4(out['r44'])\n",
    "        out['r51'] = F.relu(self.conv5_1(out['p4']))\n",
    "        out['r52'] = F.relu(self.conv5_2(out['r51']))\n",
    "        out['r53'] = F.relu(self.conv5_3(out['r52']))\n",
    "        out['r54'] = F.relu(self.conv5_4(out['r53']))\n",
    "        out['p5'] = self.pool5(out['r54'])\n",
    "        \n",
    "        #return [out[key] for key in out_keys]\n",
    "        l = out['p5'].view(-1,512*8*8)\n",
    "        l = F.relu(self.lin1(l))\n",
    "        l = F.relu(self.lin2(l))\n",
    "        #l = F.relu(self.lin3(l))\n",
    "        l = F.relu(self.lin4(l))\n",
    "        l = F.sigmoid(self.lin5(l))\n",
    "        \n",
    "        return l"
   ]
  },
  {
   "cell_type": "code",
   "execution_count": 10,
   "metadata": {},
   "outputs": [
    {
     "name": "stdout",
     "output_type": "stream",
     "text": [
      "('epoch', 0, 'cost', 1.3878365755081177, 'true_op', 0.4803718626499176, 'false_op', 0.4803718626499176)\n",
      "('epoch', 1, 'cost', 1.3878346681594849, 'true_op', 0.48038429021835327, 'false_op', 0.48038429021835327)\n",
      "('epoch', 2, 'cost', 1.3878309726715088, 'true_op', 0.4804078936576843, 'false_op', 0.4804078936576843)\n",
      "('epoch', 3, 'cost', 1.3878257274627686, 'true_op', 0.48044148087501526, 'false_op', 0.48044148087501526)\n",
      "('epoch', 4, 'cost', 1.3878190517425537, 'true_op', 0.4804841876029968, 'false_op', 0.4804841876029968)\n",
      "('epoch', 5, 'cost', 1.3878109455108643, 'true_op', 0.48053494095802307, 'false_op', 0.48053494095802307)\n",
      "('epoch', 6, 'cost', 1.3878021240234375, 'true_op', 0.48059284687042236, 'false_op', 0.48059284687042236)\n",
      "('epoch', 7, 'cost', 1.3877921104431152, 'true_op', 0.48065733909606934, 'false_op', 0.48065733909606934)\n",
      "('epoch', 8, 'cost', 1.3877811431884766, 'true_op', 0.48072758316993713, 'false_op', 0.48072758316993713)\n",
      "('epoch', 9, 'cost', 1.3877694606781006, 'true_op', 0.48080307245254517, 'false_op', 0.4808030426502228)\n",
      "('epoch', 10, 'cost', 1.3877573013305664, 'true_op', 0.48088306188583374, 'false_op', 0.48088306188583374)\n",
      "('epoch', 11, 'cost', 1.387744426727295, 'true_op', 0.4809671640396118, 'false_op', 0.4809671640396118)\n",
      "('epoch', 12, 'cost', 1.3877310752868652, 'true_op', 0.48105499148368835, 'false_op', 0.48105499148368835)\n",
      "('epoch', 13, 'cost', 1.3877172470092773, 'true_op', 0.4811459183692932, 'false_op', 0.4811459183692932)\n",
      "('epoch', 14, 'cost', 1.3877031803131104, 'true_op', 0.48123976588249207, 'false_op', 0.48123976588249207)\n",
      "('epoch', 15, 'cost', 1.3876886367797852, 'true_op', 0.4813360273838043, 'false_op', 0.4813360273838043)\n",
      "('epoch', 16, 'cost', 1.38767409324646, 'true_op', 0.4814344346523285, 'false_op', 0.4814344346523285)\n",
      "('epoch', 17, 'cost', 1.3876591920852661, 'true_op', 0.48153460025787354, 'false_op', 0.48153460025787354)\n",
      "('epoch', 18, 'cost', 1.3876440525054932, 'true_op', 0.4816364347934723, 'false_op', 0.4816364347934723)\n",
      "('epoch', 19, 'cost', 1.3876289129257202, 'true_op', 0.48173967003822327, 'false_op', 0.48173967003822327)\n",
      "('epoch', 20, 'cost', 1.3876137733459473, 'true_op', 0.481844037771225, 'false_op', 0.481844037771225)\n",
      "('epoch', 21, 'cost', 1.3875985145568848, 'true_op', 0.48194950819015503, 'false_op', 0.48194950819015503)\n",
      "('epoch', 22, 'cost', 1.3875831365585327, 'true_op', 0.48205581307411194, 'false_op', 0.48205581307411194)\n",
      "('epoch', 23, 'cost', 1.3875677585601807, 'true_op', 0.48216283321380615, 'false_op', 0.4821627736091614)\n",
      "('epoch', 24, 'cost', 1.3875524997711182, 'true_op', 0.48227035999298096, 'false_op', 0.48227035999298096)\n",
      "('epoch', 25, 'cost', 1.3875372409820557, 'true_op', 0.48237836360931396, 'false_op', 0.48237836360931396)\n",
      "('epoch', 26, 'cost', 1.3875219821929932, 'true_op', 0.48248669505119324, 'false_op', 0.48248669505119324)\n",
      "('epoch', 27, 'cost', 1.3875068426132202, 'true_op', 0.4825952649116516, 'false_op', 0.4825952649116516)\n",
      "('epoch', 28, 'cost', 1.3874917030334473, 'true_op', 0.4827038049697876, 'false_op', 0.4827038049697876)\n",
      "('epoch', 29, 'cost', 1.3874768018722534, 'true_op', 0.48281237483024597, 'false_op', 0.48281237483024597)\n",
      "('epoch', 30, 'cost', 1.3874616622924805, 'true_op', 0.48292094469070435, 'false_op', 0.48292088508605957)\n",
      "('epoch', 31, 'cost', 1.3874468803405762, 'true_op', 0.48302939534187317, 'false_op', 0.48302939534187317)\n",
      "('epoch', 32, 'cost', 1.3874324560165405, 'true_op', 0.48313769698143005, 'false_op', 0.48313769698143005)\n",
      "('epoch', 33, 'cost', 1.3874179124832153, 'true_op', 0.4832458198070526, 'false_op', 0.4832458198070526)\n",
      "('epoch', 34, 'cost', 1.3874034881591797, 'true_op', 0.4833536148071289, 'false_op', 0.4833536148071289)\n",
      "('epoch', 35, 'cost', 1.3873891830444336, 'true_op', 0.4834612011909485, 'false_op', 0.4834612011909485)\n",
      "('epoch', 36, 'cost', 1.3873748779296875, 'true_op', 0.4835684597492218, 'false_op', 0.4835684597492218)\n",
      "('epoch', 37, 'cost', 1.38736093044281, 'true_op', 0.48367536067962646, 'false_op', 0.48367536067962646)\n",
      "('epoch', 38, 'cost', 1.3873471021652222, 'true_op', 0.4837817847728729, 'false_op', 0.4837817847728729)\n",
      "('epoch', 39, 'cost', 1.3873333930969238, 'true_op', 0.48388785123825073, 'false_op', 0.48388785123825073)\n",
      "('epoch', 40, 'cost', 1.387319564819336, 'true_op', 0.4839934706687927, 'false_op', 0.48399344086647034)\n",
      "('epoch', 41, 'cost', 1.3873063325881958, 'true_op', 0.4840986132621765, 'false_op', 0.4840986132621765)\n",
      "('epoch', 42, 'cost', 1.3872929811477661, 'true_op', 0.4842032492160797, 'false_op', 0.4842032492160797)\n",
      "('epoch', 43, 'cost', 1.387279748916626, 'true_op', 0.4843074083328247, 'false_op', 0.48430734872817993)\n",
      "('epoch', 44, 'cost', 1.3872668743133545, 'true_op', 0.4844110310077667, 'false_op', 0.4844110310077667)\n",
      "('epoch', 45, 'cost', 1.387253999710083, 'true_op', 0.48451411724090576, 'false_op', 0.48451411724090576)\n",
      "('epoch', 46, 'cost', 1.3872413635253906, 'true_op', 0.4846166670322418, 'false_op', 0.4846166670322418)\n",
      "('epoch', 47, 'cost', 1.3872289657592773, 'true_op', 0.4847186505794525, 'false_op', 0.4847186505794525)\n",
      "('epoch', 48, 'cost', 1.387216567993164, 'true_op', 0.4848201274871826, 'false_op', 0.4848201274871826)\n",
      "('epoch', 49, 'cost', 1.3872042894363403, 'true_op', 0.4849209785461426, 'false_op', 0.4849209785461426)\n"
     ]
    }
   ],
   "source": [
    "vgg1 = VGG()\n",
    "vgg1.cuda()\n",
    "optimizer = optim.SGD(vgg1.parameters(), lr=0.001, momentum=0.9)\n",
    "\n",
    "for ep in range(50):\n",
    "    optimizer.zero_grad()\n",
    "    true_op = vgg1(img_var)\n",
    "    \n",
    "    false_img = sample_imgs()\n",
    "    false_op = vgg1(false_img)\n",
    "    \n",
    "    weights = torch.Tensor([5,0]).cuda()\n",
    "    #criteria = nn.BCELoss(weight=weights)\n",
    "    #cost = criteria(true_op)\n",
    "    cost = -torch.log(true_op) - torch.log(1-false_op)\n",
    "    cost.backward()\n",
    "    optimizer.step()\n",
    "    \n",
    "    #if(ep%50==49):\n",
    "    print('epoch', ep, 'cost', cost.data[0][0],'true_op', true_op.data[0][0],'false_op',false_op.data[0][0])"
   ]
  },
  {
   "cell_type": "code",
   "execution_count": null,
   "metadata": {
    "collapsed": true
   },
   "outputs": [],
   "source": []
  }
 ],
 "metadata": {
  "kernelspec": {
   "display_name": "Python 2",
   "language": "python",
   "name": "python2"
  },
  "language_info": {
   "codemirror_mode": {
    "name": "ipython",
    "version": 2
   },
   "file_extension": ".py",
   "mimetype": "text/x-python",
   "name": "python",
   "nbconvert_exporter": "python",
   "pygments_lexer": "ipython2",
   "version": "2.7.6"
  }
 },
 "nbformat": 4,
 "nbformat_minor": 2
}
